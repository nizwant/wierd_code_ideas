{
 "cells": [
  {
   "cell_type": "code",
   "execution_count": 4,
   "metadata": {},
   "outputs": [],
   "source": [
    "import numpy as np"
   ]
  },
  {
   "cell_type": "code",
   "execution_count": 34,
   "metadata": {},
   "outputs": [],
   "source": [
    "total_fraction = 1\n",
    "budget = 100\n",
    "\n",
    "win_rates = [3.25, 3.25, 2.47]\n",
    "probabilities = [0.3, 0.3, 0.4]\n",
    "num_of_iterations = 10000000"
   ]
  },
  {
   "cell_type": "code",
   "execution_count": 36,
   "metadata": {},
   "outputs": [
    {
     "name": "stdout",
     "output_type": "stream",
     "text": [
      "Profits:  [68.54267111350615, 90.19257524123407, 144.61969960941573]\n",
      "Minimum profit:  68.54267111350615\n",
      "[68.54267111350615, 90.19257524123407, 144.61969960941573]\n",
      "Profits:  [98.10622361756613, 135.2637922594794, 69.63878793344539]\n",
      "Minimum profit:  69.63878793344539\n",
      "[98.10622361756613, 135.2637922594794, 69.63878793344539]\n",
      "[239.81714176899374, 6.722016738616383, 2.7291125127076725]\n",
      "Profits:  [96.97855127749935, 100.64531745030723, 96.7513256056147]\n",
      "Minimum profit:  96.7513256056147\n",
      "[246.8588549285589, 0.15775915883084038, 0.02795804043377468]\n",
      "Profits:  [99.84284521659805, 96.81165021441859, 96.81618502689977]\n",
      "Minimum profit:  96.81165021441859\n",
      "Profits:  [97.37260486131008, 97.89100153225955, 98.8234457541379]\n",
      "Minimum profit:  97.37260486131008\n",
      "[246.99907033267476, 0.0004783782083933462, 0.0007448682721844647]\n",
      "Profits:  [97.40465096990809, 97.83133443954777, 99.00465112636265]\n",
      "Minimum profit:  97.40465096990809\n",
      "Profits:  [98.4432549838353, 97.6875436432269, 97.94059304343273]\n",
      "Minimum profit:  97.6875436432269\n",
      "[246.9992592637181, 0.0004323841979700794, 0.0005422688045244727]\n",
      "[246.99985505157304, 0.0001265996268540946, 6.412198760011997e-05]\n",
      "Profits:  [97.99467646089376, 97.97388026657951, 98.09232318834373]\n",
      "Minimum profit:  97.97388026657951\n",
      "Profits:  [98.00160344800383, 98.00256578006625, 98.04795599887608]\n",
      "Minimum profit:  98.00160344800383\n",
      "Max expected profit:  98.79999923711355\n"
     ]
    }
   ],
   "source": [
    "max_profit = 0\n",
    "max_expected_profit = 0\n",
    "for _ in range(num_of_iterations):\n",
    "    win_rates = win_rates[1:] + [win_rates[0]]\n",
    "    probabilities = probabilities[1:] + [probabilities[0]]\n",
    "\n",
    "    first_bet = np.random.random()\n",
    "    fraction = total_fraction - first_bet\n",
    "    second_bet = fraction * np.random.random()\n",
    "    third_bet = fraction - second_bet\n",
    "    profits = [\n",
    "        first_bet * win_rates[0] * budget,\n",
    "        second_bet * win_rates[1] * budget,\n",
    "        third_bet * win_rates[2] * budget,\n",
    "    ]\n",
    "    minimum_profit = min(profits)\n",
    "    if minimum_profit > max_profit:\n",
    "        max_profit = minimum_profit\n",
    "        print(\"Profits: \", profits)\n",
    "        print(\"Minimum profit: \", minimum_profit)\n",
    "\n",
    "    expected_profit = sum([probabilities[i] * profits[i] for i in range(3)])\n",
    "    if expected_profit > max_expected_profit:\n",
    "        max_expected_profit = expected_profit\n",
    "        print(profits)\n",
    "\n",
    "print(\"Max expected profit: \", max_expected_profit)"
   ]
  },
  {
   "cell_type": "code",
   "execution_count": null,
   "metadata": {},
   "outputs": [],
   "source": []
  }
 ],
 "metadata": {
  "kernelspec": {
   "display_name": "asseco",
   "language": "python",
   "name": "python3"
  },
  "language_info": {
   "codemirror_mode": {
    "name": "ipython",
    "version": 3
   },
   "file_extension": ".py",
   "mimetype": "text/x-python",
   "name": "python",
   "nbconvert_exporter": "python",
   "pygments_lexer": "ipython3",
   "version": "3.10.4"
  }
 },
 "nbformat": 4,
 "nbformat_minor": 2
}
