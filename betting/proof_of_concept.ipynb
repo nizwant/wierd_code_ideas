{
 "cells": [
  {
   "cell_type": "code",
   "execution_count": 4,
   "metadata": {},
   "outputs": [],
   "source": [
    "import numpy as np"
   ]
  },
  {
   "cell_type": "code",
   "execution_count": 18,
   "metadata": {},
   "outputs": [],
   "source": [
    "total_fraction = 1\n",
    "budget = 100\n",
    "\n",
    "win_rates = [1.37, 4.9, 9.4]\n",
    "num_of_iterations = 10000000"
   ]
  },
  {
   "cell_type": "code",
   "execution_count": 19,
   "metadata": {},
   "outputs": [
    {
     "name": "stdout",
     "output_type": "stream",
     "text": [
      "Profits:  [121.47853313953696, 646.8172723381675, 8.765416869798615]\n",
      "Minimum profit:  8.765416869798615\n",
      "Profits:  [535.5761024423479, 16.985441427707748, 150.0658636546281]\n",
      "Minimum profit:  16.985441427707748\n",
      "Profits:  [63.635188574885845, 58.70291641564439, 246.8691294449613]\n",
      "Minimum profit:  58.70291641564439\n",
      "Profits:  [95.99765975526107, 91.30294818676067, 106.17733128609738]\n",
      "Minimum profit:  91.30294818676067\n",
      "Profits:  [94.6121752527626, 92.23689770009501, 113.89191706776877]\n",
      "Minimum profit:  92.23689770009501\n",
      "Profits:  [95.9251197632935, 93.62454193789881, 105.13497976156174]\n",
      "Minimum profit:  93.62454193789881\n",
      "Profits:  [94.63845179579386, 97.40430076001533, 96.34370270889676]\n",
      "Minimum profit:  94.63845179579386\n",
      "Profits:  [100.53929213546226, 95.15497525041357, 95.02170314857776]\n",
      "Minimum profit:  95.02170314857776\n",
      "Profits:  [97.05190846036528, 96.15327352625707, 95.50324273071656]\n",
      "Minimum profit:  95.50324273071656\n",
      "Profits:  [95.83628048198763, 96.05739116383599, 98.16383697181146]\n",
      "Minimum profit:  95.83628048198763\n",
      "Profits:  [95.91530032401212, 96.6972772342278, 96.3941204906326]\n",
      "Minimum profit:  95.91530032401212\n",
      "Profits:  [96.1224073581838, 95.98092754433058, 96.60418983636015]\n",
      "Minimum profit:  95.98092754433058\n",
      "Profits:  [96.0485924766045, 96.40317531049246, 96.04375672263895]\n",
      "Minimum profit:  96.04375672263895\n",
      "Profits:  [96.2643733301931, 96.09146439618075, 96.1348355137699]\n",
      "Minimum profit:  96.09146439618075\n",
      "Profits:  [96.17884085973616, 96.10114804972267, 96.1029500770849]\n",
      "Minimum profit:  96.10114804972267\n"
     ]
    }
   ],
   "source": [
    "max_profit = 0\n",
    "for _ in range(num_of_iterations):\n",
    "    win_rates = win_rates[1:] + [win_rates[0]]\n",
    "    first_bet = np.random.random()\n",
    "    fraction = total_fraction - first_bet\n",
    "    second_bet = fraction * np.random.random()\n",
    "    third_bet = fraction - second_bet\n",
    "    profits = [\n",
    "        first_bet * win_rates[0] * budget,\n",
    "        second_bet * win_rates[1] * budget,\n",
    "        third_bet * win_rates[2] * budget,\n",
    "    ]\n",
    "    minimum_profit = min(profits)\n",
    "    if minimum_profit > max_profit:\n",
    "        max_profit = minimum_profit\n",
    "        print(\"Profits: \", profits)\n",
    "        print(\"Minimum profit: \", minimum_profit)"
   ]
  },
  {
   "cell_type": "code",
   "execution_count": null,
   "metadata": {},
   "outputs": [],
   "source": []
  }
 ],
 "metadata": {
  "kernelspec": {
   "display_name": "asseco",
   "language": "python",
   "name": "python3"
  },
  "language_info": {
   "codemirror_mode": {
    "name": "ipython",
    "version": 3
   },
   "file_extension": ".py",
   "mimetype": "text/x-python",
   "name": "python",
   "nbconvert_exporter": "python",
   "pygments_lexer": "ipython3",
   "version": "3.10.4"
  }
 },
 "nbformat": 4,
 "nbformat_minor": 2
}
