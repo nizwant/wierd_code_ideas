{
 "cells": [
  {
   "cell_type": "code",
   "execution_count": 4,
   "metadata": {},
   "outputs": [],
   "source": [
    "import numpy as np"
   ]
  },
  {
   "cell_type": "code",
   "execution_count": 48,
   "metadata": {},
   "outputs": [],
   "source": [
    "total_fraction = 1\n",
    "budget = 100\n",
    "\n",
    "win_rates = [3.25, 3.25, 2.3]\n",
    "probabilities = [0.3, 0.3, 0.4]\n",
    "num_of_iterations = 10000000"
   ]
  },
  {
   "cell_type": "code",
   "execution_count": 49,
   "metadata": {},
   "outputs": [
    {
     "name": "stdout",
     "output_type": "stream",
     "text": [
      "Minimum profit:  22.377759187869568\n",
      "Bets:  [0.7388407434661519, 0.09729460516465031, 0.16386465136919776]\n",
      "Minimum profit:  24.65932480943219\n",
      "Bets:  [0.8474839120611928, 0.07587484556748365, 0.07664124237132357]\n",
      "Minimum profit:  25.470942179140245\n",
      "Bets:  [0.28719972114168535, 0.6020570519924875, 0.11074322686582716]\n",
      "Minimum profit:  68.47061590888742\n",
      "Bets:  [0.297698330038641, 0.28647041548944785, 0.41583125447191116]\n",
      "Minimum profit:  77.99281897617921\n",
      "Bets:  [0.4978640952448674, 0.2399779045420899, 0.2621580002130427]\n",
      "Minimum profit:  84.07452323248621\n",
      "Bets:  [0.35610132244958603, 0.3655414053586357, 0.27835727219177825]\n",
      "Minimum profit:  85.40951494035929\n",
      "Bets:  [0.45387376527457257, 0.28332772721662963, 0.2627985075087978]\n",
      "Minimum profit:  87.01955559914542\n",
      "Bets:  [0.3409312318969051, 0.3913162893364936, 0.2677524787666013]\n",
      "Minimum profit:  92.38611273957001\n",
      "Bets:  [0.28426496227560005, 0.4080795769145852, 0.30765546080981476]\n",
      "Minimum profit:  93.54016205811988\n",
      "Bets:  [0.40857380016735845, 0.3036103165768881, 0.28781588325575347]\n",
      "Minimum profit:  93.9117373877196\n",
      "Bets:  [0.41665099032004427, 0.28895919196221415, 0.2943898177177416]\n",
      "Minimum profit:  94.01185811832339\n",
      "Bets:  [0.2914491440582352, 0.4087472092101017, 0.2998036467316631]\n",
      "Minimum profit:  94.59068884633352\n",
      "Bets:  [0.2939044793484118, 0.4112638645492762, 0.294831656102312]\n",
      "Minimum profit:  94.74153257962735\n",
      "Bets:  [0.2915124079373149, 0.4141617568961301, 0.29432583516655497]\n",
      "Minimum profit:  94.96540970157115\n",
      "Bets:  [0.4133941282778275, 0.2944046111019536, 0.2922012606202189]\n",
      "Minimum profit:  95.02503694649069\n",
      "Bets:  [0.2923847290661252, 0.2932828971320277, 0.41433237380184706]\n",
      "Minimum profit:  95.13273862265744\n",
      "Bets:  [0.2929007984303763, 0.4136206027072063, 0.2934785988624174]\n",
      "Minimum profit:  95.16219941423049\n",
      "Bets:  [0.2928067674284015, 0.29287599837397177, 0.4143172341976267]\n",
      "Minimum profit:  95.18301198451906\n",
      "Bets:  [0.2928722865989778, 0.29287080610621247, 0.41425690729480974]\n"
     ]
    }
   ],
   "source": [
    "max_profit = 0\n",
    "max_expected_profit = 0\n",
    "for _ in range(num_of_iterations):\n",
    "    win_rates = win_rates[1:] + [win_rates[0]]\n",
    "    # probabilities = probabilities[1:] + [probabilities[0]]\n",
    "\n",
    "    first_bet = np.random.random()\n",
    "    fraction = total_fraction - first_bet\n",
    "    second_bet = fraction * np.random.random()\n",
    "    third_bet = fraction - second_bet\n",
    "    profits = [\n",
    "        first_bet * win_rates[0] * budget,\n",
    "        second_bet * win_rates[1] * budget,\n",
    "        third_bet * win_rates[2] * budget,\n",
    "    ]\n",
    "    minimum_profit = min(profits)\n",
    "    if minimum_profit > max_profit:\n",
    "        max_profit = minimum_profit\n",
    "        print(\"Minimum profit: \", minimum_profit)\n",
    "        print(\"Bets: \", [first_bet, second_bet, third_bet])"
   ]
  },
  {
   "cell_type": "code",
   "execution_count": 50,
   "metadata": {},
   "outputs": [
    {
     "name": "stdout",
     "output_type": "stream",
     "text": [
      "Arithmetic Mean: 0.9777777777777779\n",
      "Geometric Mean: 0.9654066023549793\n",
      "Harmonic Mean: 0.9522292993630571\n"
     ]
    }
   ],
   "source": [
    "import numpy as np\n",
    "\n",
    "numbers = win_rates\n",
    "\n",
    "mean = np.mean(numbers)\n",
    "print(\"Arithmetic Mean:\", mean / 3)\n",
    "\n",
    "\n",
    "geometric_mean = np.exp(np.mean(np.log(numbers)))\n",
    "print(\"Geometric Mean:\", geometric_mean / 3)\n",
    "\n",
    "harmonic_mean = len(numbers) / np.sum(1 / np.array(numbers))\n",
    "print(\"Harmonic Mean:\", harmonic_mean / 3)"
   ]
  },
  {
   "cell_type": "code",
   "execution_count": null,
   "metadata": {},
   "outputs": [],
   "source": [
    "study = np.array([1, 2, 3])"
   ]
  }
 ],
 "metadata": {
  "kernelspec": {
   "display_name": "asseco",
   "language": "python",
   "name": "python3"
  },
  "language_info": {
   "codemirror_mode": {
    "name": "ipython",
    "version": 3
   },
   "file_extension": ".py",
   "mimetype": "text/x-python",
   "name": "python",
   "nbconvert_exporter": "python",
   "pygments_lexer": "ipython3",
   "version": "3.10.4"
  }
 },
 "nbformat": 4,
 "nbformat_minor": 2
}
