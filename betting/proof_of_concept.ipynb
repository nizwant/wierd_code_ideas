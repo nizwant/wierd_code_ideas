{
 "cells": [
  {
   "cell_type": "code",
   "execution_count": 4,
   "metadata": {},
   "outputs": [],
   "source": [
    "import numpy as np"
   ]
  },
  {
   "cell_type": "code",
   "execution_count": 26,
   "metadata": {},
   "outputs": [],
   "source": [
    "total_fraction = 1\n",
    "budget = 100\n",
    "\n",
    "win_rates = [3.2, 3.3, 2.47]\n",
    "num_of_iterations = 10000000"
   ]
  },
  {
   "cell_type": "code",
   "execution_count": 27,
   "metadata": {},
   "outputs": [
    {
     "name": "stdout",
     "output_type": "stream",
     "text": [
      "Profits:  [88.54692302920772, 144.27433004517317, 47.2222052631718]\n",
      "Minimum profit:  47.2222052631718\n",
      "Profits:  [134.1824069095955, 120.16848113153078, 53.48366727426779]\n",
      "Minimum profit:  53.48366727426779\n",
      "Profits:  [55.510871686787624, 105.79515322153554, 129.108729256314]\n",
      "Minimum profit:  55.510871686787624\n",
      "Profits:  [74.03865305114402, 135.7227237329688, 91.11790266099324]\n",
      "Minimum profit:  74.03865305114402\n",
      "Profits:  [76.5142977685552, 107.06124985182441, 107.10148349921165]\n",
      "Minimum profit:  76.5142977685552\n",
      "Profits:  [94.1063405535111, 111.41282838398222, 90.97085441300527]\n",
      "Minimum profit:  90.97085441300527\n",
      "Profits:  [100.75229732360644, 91.09052964641506, 104.28878038131168]\n",
      "Minimum profit:  91.09052964641506\n",
      "Profits:  [97.20252225441584, 104.75673408862134, 93.56297489278347]\n",
      "Minimum profit:  93.56297489278347\n",
      "Profits:  [94.90006301132466, 93.7060857310761, 106.57509957530687]\n",
      "Minimum profit:  93.7060857310761\n",
      "Profits:  [95.24153594550643, 103.36233788268976, 93.73385006079174]\n",
      "Minimum profit:  93.73385006079174\n",
      "Profits:  [98.2952799517483, 93.92457329565495, 102.99970718430443]\n",
      "Minimum profit:  93.92457329565495\n",
      "Profits:  [99.07943273284272, 95.48233815018101, 99.05597945601973]\n",
      "Minimum profit:  95.48233815018101\n",
      "Profits:  [101.34530373424393, 96.59146781381341, 96.47684352857921]\n",
      "Minimum profit:  96.47684352857921\n",
      "Profits:  [97.94712938750519, 98.38023523659099, 97.76094403905587]\n",
      "Minimum profit:  97.76094403905587\n",
      "Profits:  [98.30616925340654, 97.88771915447407, 97.8524509676629]\n",
      "Minimum profit:  97.8524509676629\n",
      "Profits:  [98.15873755650675, 98.00910472898875, 97.87539454535859]\n",
      "Minimum profit:  97.87539454535859\n",
      "Profits:  [98.05463347883413, 97.93574622731985, 98.03640005187061]\n",
      "Minimum profit:  97.93574622731985\n",
      "Profits:  [97.98016853743411, 98.08333479626057, 97.94688237859008]\n",
      "Minimum profit:  97.94688237859008\n"
     ]
    }
   ],
   "source": [
    "max_profit = 0\n",
    "for _ in range(num_of_iterations):\n",
    "    win_rates = win_rates[1:] + [win_rates[0]]\n",
    "    first_bet = np.random.random()\n",
    "    fraction = total_fraction - first_bet\n",
    "    second_bet = fraction * np.random.random()\n",
    "    third_bet = fraction - second_bet\n",
    "    profits = [\n",
    "        first_bet * win_rates[0] * budget,\n",
    "        second_bet * win_rates[1] * budget,\n",
    "        third_bet * win_rates[2] * budget,\n",
    "    ]\n",
    "    minimum_profit = min(profits)\n",
    "    if minimum_profit > max_profit:\n",
    "        max_profit = minimum_profit\n",
    "        print(\"Profits: \", profits)\n",
    "        print(\"Minimum profit: \", minimum_profit)"
   ]
  },
  {
   "cell_type": "code",
   "execution_count": null,
   "metadata": {},
   "outputs": [],
   "source": []
  }
 ],
 "metadata": {
  "kernelspec": {
   "display_name": "asseco",
   "language": "python",
   "name": "python3"
  },
  "language_info": {
   "codemirror_mode": {
    "name": "ipython",
    "version": 3
   },
   "file_extension": ".py",
   "mimetype": "text/x-python",
   "name": "python",
   "nbconvert_exporter": "python",
   "pygments_lexer": "ipython3",
   "version": "3.10.4"
  }
 },
 "nbformat": 4,
 "nbformat_minor": 2
}
